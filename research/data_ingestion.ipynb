{
 "cells": [
  {
   "cell_type": "code",
   "execution_count": 1,
   "id": "0cf5d514-8ed7-4df2-8968-fd64475becfa",
   "metadata": {},
   "outputs": [],
   "source": [
    "import gdown"
   ]
  },
  {
   "cell_type": "code",
   "execution_count": 2,
   "id": "4d15eeea-00f3-4581-9f51-9eb8775c2cf3",
   "metadata": {},
   "outputs": [],
   "source": [
    "url='https://drive.google.com/file/d/1Y6dBQTBGdl5by0IHLMUrPlHW-ytPdT2B/view?usp=sharing'"
   ]
  },
  {
   "cell_type": "code",
   "execution_count": 3,
   "id": "44d9ead2-db33-4775-b5b2-edc6a4a4c801",
   "metadata": {},
   "outputs": [],
   "source": [
    "file_id = url.split('/')[5]"
   ]
  },
  {
   "cell_type": "code",
   "execution_count": 4,
   "id": "1fd8cf4e-c0fe-45c1-8755-1a81653bab67",
   "metadata": {},
   "outputs": [],
   "source": [
    "prefix_url = f'https://drive.google.com/uc?/export=download$id={file_id}'"
   ]
  },
  {
   "cell_type": "code",
   "execution_count": 5,
   "id": "41e580e4-41de-42e9-a8aa-cf65dcb6ec80",
   "metadata": {},
   "outputs": [
    {
     "name": "stderr",
     "output_type": "stream",
     "text": [
      "Downloading...\n",
      "From: https://drive.google.com/uc?/export=download$id=1Y6dBQTBGdl5by0IHLMUrPlHW-ytPdT2B\n",
      "To: /Users/krushna/Kidney-Disease-Classification/research/Kidney_Image_Classification_Data.zip\n",
      "1.70kB [00:00, 1.35MB/s]\n"
     ]
    },
    {
     "data": {
      "text/plain": [
       "'Kidney_Image_Classification_Data.zip'"
      ]
     },
     "execution_count": 5,
     "metadata": {},
     "output_type": "execute_result"
    }
   ],
   "source": [
    "gdown.download(prefix_url,\"Kidney_Image_Classification_Data.zip\")"
   ]
  },
  {
   "cell_type": "code",
   "execution_count": 6,
   "id": "6cf73c8c-77ba-4cc7-accf-721d2ecb49ae",
   "metadata": {},
   "outputs": [],
   "source": [
    "import os  "
   ]
  },
  {
   "cell_type": "code",
   "execution_count": 7,
   "id": "f95e586a-b0ed-4a99-a5f7-be717a80a9b6",
   "metadata": {},
   "outputs": [
    {
     "data": {
      "text/plain": [
       "'/Users/krushna/Kidney-Disease-Classification/research'"
      ]
     },
     "execution_count": 7,
     "metadata": {},
     "output_type": "execute_result"
    }
   ],
   "source": [
    "%pwd"
   ]
  },
  {
   "cell_type": "code",
   "execution_count": 8,
   "id": "b0360f3f-810d-44bd-9ff6-c84bbfc88d07",
   "metadata": {},
   "outputs": [],
   "source": [
    "os.chdir(\"../\")"
   ]
  },
  {
   "cell_type": "code",
   "execution_count": 9,
   "id": "50a7adcb-7026-48ee-ac0b-4b625cab073f",
   "metadata": {},
   "outputs": [
    {
     "data": {
      "text/plain": [
       "'/Users/krushna/Kidney-Disease-Classification'"
      ]
     },
     "execution_count": 9,
     "metadata": {},
     "output_type": "execute_result"
    }
   ],
   "source": [
    "%pwd"
   ]
  },
  {
   "cell_type": "code",
   "execution_count": 10,
   "id": "e4d9da50-f78c-484e-917c-9cce28d55a9d",
   "metadata": {},
   "outputs": [],
   "source": [
    "from dataclasses import dataclass\n",
    "from pathlib import Path\n",
    "\n",
    "\n",
    "@dataclass(frozen=True)\n",
    "class DataIngestionConfig:\n",
    "    root_dir: Path\n",
    "    source_URL: str\n",
    "    local_data_file: Path\n",
    "    unzip_dir: Path"
   ]
  },
  {
   "cell_type": "code",
   "execution_count": 11,
   "id": "bc94c1cf-463a-4988-adf0-920a705c0ac9",
   "metadata": {},
   "outputs": [],
   "source": [
    "from Kidney_Image_Classifier.constants import *\n",
    "from Kidney_Image_Classifier.utils.overlapping import create_directories,read_yaml"
   ]
  },
  {
   "cell_type": "code",
   "execution_count": 12,
   "id": "ad6468ae-e2d8-4bad-9bbf-0824831caa76",
   "metadata": {},
   "outputs": [],
   "source": [
    "class ConfigurationManager:\n",
    "    def __init__(\n",
    "        self,\n",
    "        config_filepath = CONFIG_FILE_PATH,\n",
    "        params_filepath = PARAMS_FILE_PATH):\n",
    "\n",
    "        self.config = read_yaml(config_filepath)\n",
    "        self.params = read_yaml(params_filepath)\n",
    "\n",
    "        create_directories([self.config.artifacts_root])\n",
    "\n",
    "\n",
    "    \n",
    "    def get_data_ingestion_config(self) -> DataIngestionConfig:\n",
    "        config = self.config.data_ingestion\n",
    "\n",
    "        create_directories([config.root_dir])\n",
    "\n",
    "        data_ingestion_config = DataIngestionConfig(\n",
    "            root_dir=config.root_dir,\n",
    "            source_URL=config.source_URL,\n",
    "            local_data_file=config.local_data_file,\n",
    "            unzip_dir=config.unzip_dir \n",
    "        )\n",
    "\n",
    "        return data_ingestion_config"
   ]
  },
  {
   "cell_type": "code",
   "execution_count": 13,
   "id": "68a940a7-4616-4e99-8c21-bc66e3e8ce67",
   "metadata": {},
   "outputs": [],
   "source": [
    "import os\n",
    "import zipfile\n",
    "import gdown\n",
    "from cnnClassifier import logger\n",
    "from Kidney_Image_Classifier.utils.overlapping import get_size"
   ]
  },
  {
   "cell_type": "code",
   "execution_count": 14,
   "id": "b6268bdc-f115-45c7-ac13-c5a5ea2e0ff6",
   "metadata": {},
   "outputs": [],
   "source": [
    "class DataIngestion:\n",
    "    def __init__(self, config: DataIngestionConfig):\n",
    "        self.config = config\n",
    "\n",
    "    \n",
    "    def download_file(self)-> str:\n",
    "        '''\n",
    "        Fetch data from the url\n",
    "        '''\n",
    "\n",
    "        try: \n",
    "            dataset_url = self.config.source_URL\n",
    "            zip_download_dir = self.config.local_data_file\n",
    "            os.makedirs(\"artifacts/data_ingestion\", exist_ok=True)\n",
    "            logger.info(f\"Downloading data from {dataset_url} into file {zip_download_dir}\")\n",
    "\n",
    "            file_id = dataset_url.split(\"/\")[-2]\n",
    "            prefix = 'https://drive.google.com/uc?/export=download&id='\n",
    "            gdown.download(prefix+file_id,zip_download_dir)\n",
    "\n",
    "            logger.info(f\"Downloaded data from {dataset_url} into file {zip_download_dir}\")\n",
    "\n",
    "        except Exception as e:\n",
    "            raise e\n",
    "        \n",
    "    \n",
    "\n",
    "    def extract_zip_file(self):\n",
    "        \"\"\"\n",
    "        zip_file_path: str\n",
    "        Extracts the zip file into the data directory\n",
    "        Function returns None\n",
    "        \"\"\"\n",
    "        unzip_path = self.config.unzip_dir\n",
    "        os.makedirs(unzip_path, exist_ok=True)\n",
    "        with zipfile.ZipFile(self.config.local_data_file, 'r') as zip_ref:\n",
    "            zip_ref.extractall(unzip_path)"
   ]
  },
  {
   "cell_type": "code",
   "execution_count": 15,
   "id": "32dd02a1-4c42-4361-8762-124e5c2fcef5",
   "metadata": {},
   "outputs": [
    {
     "name": "stdout",
     "output_type": "stream",
     "text": [
      "[2024-10-05 02:04:55,608: INFO: overlapping: yaml file: config/config.yaml loaded successfully]\n",
      "[2024-10-05 02:04:55,612: INFO: overlapping: yaml file: params.yaml loaded successfully]\n",
      "[2024-10-05 02:04:55,613: INFO: overlapping: created directory at: artifacts]\n",
      "[2024-10-05 02:04:55,614: INFO: overlapping: created directory at: artifacts/data_ingestion]\n",
      "[2024-10-05 02:04:55,615: INFO: 986331348: Downloading data from https://drive.google.com/file/d/1Y6dBQTBGdl5by0IHLMUrPlHW-ytPdT2B/view?usp=sharing into file artifacts/data_ingestion/data.zip]\n"
     ]
    },
    {
     "name": "stderr",
     "output_type": "stream",
     "text": [
      "Downloading...\n",
      "From (original): https://drive.google.com/uc?/export=download&id=1Y6dBQTBGdl5by0IHLMUrPlHW-ytPdT2B\n",
      "From (redirected): https://drive.google.com/uc?%2Fexport=download&id=1Y6dBQTBGdl5by0IHLMUrPlHW-ytPdT2B&confirm=t&uuid=2c6a3d49-a2f6-4979-b2a3-aa53d149d194\n",
      "To: /Users/krushna/Kidney-Disease-Classification/artifacts/data_ingestion/data.zip\n",
      "100%|██████████████████████████████████████████████████████| 944M/944M [00:41<00:00, 22.9MB/s]"
     ]
    },
    {
     "name": "stdout",
     "output_type": "stream",
     "text": [
      "[2024-10-05 02:05:40,990: INFO: 986331348: Downloaded data from https://drive.google.com/file/d/1Y6dBQTBGdl5by0IHLMUrPlHW-ytPdT2B/view?usp=sharing into file artifacts/data_ingestion/data.zip]\n"
     ]
    },
    {
     "name": "stderr",
     "output_type": "stream",
     "text": [
      "\n"
     ]
    }
   ],
   "source": [
    "try:\n",
    "    config = ConfigurationManager()\n",
    "    data_ingestion_config = config.get_data_ingestion_config()\n",
    "    data_ingestion = DataIngestion(config=data_ingestion_config)\n",
    "    data_ingestion.download_file()\n",
    "    data_ingestion.extract_zip_file()\n",
    "except Exception as e:\n",
    "    raise e"
   ]
  },
  {
   "cell_type": "code",
   "execution_count": null,
   "id": "85783436-b899-4d77-a04a-73379927d21b",
   "metadata": {},
   "outputs": [],
   "source": []
  }
 ],
 "metadata": {
  "kernelspec": {
   "display_name": "Python 3 (ipykernel)",
   "language": "python",
   "name": "python3"
  },
  "language_info": {
   "codemirror_mode": {
    "name": "ipython",
    "version": 3
   },
   "file_extension": ".py",
   "mimetype": "text/x-python",
   "name": "python",
   "nbconvert_exporter": "python",
   "pygments_lexer": "ipython3",
   "version": "3.10.0"
  }
 },
 "nbformat": 4,
 "nbformat_minor": 5
}
