{
 "cells": [
  {
   "cell_type": "code",
   "execution_count": 1,
   "id": "1e2baee0-52e8-4b78-8698-af4b5fb63bb8",
   "metadata": {},
   "outputs": [],
   "source": [
    "import os\n"
   ]
  },
  {
   "cell_type": "code",
   "execution_count": 2,
   "id": "4dc5af4b-93fc-4ab5-8a08-121ebd8e8289",
   "metadata": {},
   "outputs": [
    {
     "name": "stdout",
     "output_type": "stream",
     "text": [
      "/Users/krushna/Kidney-Disease-Classification/research\n"
     ]
    }
   ],
   "source": [
    "!pwd"
   ]
  },
  {
   "cell_type": "code",
   "execution_count": 3,
   "id": "d06db410-82cb-4397-90e5-414cb38f6910",
   "metadata": {},
   "outputs": [],
   "source": [
    "os.chdir(\"../\")"
   ]
  },
  {
   "cell_type": "code",
   "execution_count": 4,
   "id": "e2f2a2a9-b677-4d4b-8ee8-222e643f905c",
   "metadata": {},
   "outputs": [
    {
     "name": "stdout",
     "output_type": "stream",
     "text": [
      "/Users/krushna/Kidney-Disease-Classification\n"
     ]
    }
   ],
   "source": [
    "!pwd"
   ]
  },
  {
   "cell_type": "code",
   "execution_count": 5,
   "id": "6aed6d45-c72b-4d39-aa42-d92367a20d13",
   "metadata": {},
   "outputs": [
    {
     "name": "stdout",
     "output_type": "stream",
     "text": [
      "Requirement already satisfied: python-dotenv in /Users/krushna/.pyenv/versions/3.10.0/lib/python3.10/site-packages (1.0.0)\n"
     ]
    }
   ],
   "source": [
    "#!pip install dagshub\n",
    "!pip install python-dotenv\n"
   ]
  },
  {
   "cell_type": "code",
   "execution_count": 6,
   "id": "593f860c-129c-4d13-bf93-713868df5450",
   "metadata": {},
   "outputs": [
    {
     "name": "stdout",
     "output_type": "stream",
     "text": [
      "Repo Owner: kru2710shna\n",
      "Repo Name: Kidney-Disease-Classification\n"
     ]
    },
    {
     "data": {
      "text/html": [
       "<pre style=\"white-space:pre;overflow-x:auto;line-height:normal;font-family:Menlo,'DejaVu Sans Mono',consolas,'Courier New',monospace\">Accessing as kru2710shna\n",
       "</pre>\n"
      ],
      "text/plain": [
       "Accessing as kru2710shna\n"
      ]
     },
     "metadata": {},
     "output_type": "display_data"
    },
    {
     "data": {
      "text/html": [
       "<pre style=\"white-space:pre;overflow-x:auto;line-height:normal;font-family:Menlo,'DejaVu Sans Mono',consolas,'Courier New',monospace\">Initialized MLflow to track repo <span style=\"color: #008000; text-decoration-color: #008000\">\"kru2710shna/Kidney-Disease-Classification.mlflow\"</span>\n",
       "</pre>\n"
      ],
      "text/plain": [
       "Initialized MLflow to track repo \u001b[32m\"kru2710shna/Kidney-Disease-Classification.mlflow\"\u001b[0m\n"
      ]
     },
     "metadata": {},
     "output_type": "display_data"
    },
    {
     "data": {
      "text/html": [
       "<pre style=\"white-space:pre;overflow-x:auto;line-height:normal;font-family:Menlo,'DejaVu Sans Mono',consolas,'Courier New',monospace\">Repository kru2710shna/Kidney-Disease-Classification.mlflow initialized!\n",
       "</pre>\n"
      ],
      "text/plain": [
       "Repository kru2710shna/Kidney-Disease-Classification.mlflow initialized!\n"
      ]
     },
     "metadata": {},
     "output_type": "display_data"
    },
    {
     "name": "stderr",
     "output_type": "stream",
     "text": [
      "2024/10/06 03:20:00 INFO mlflow.tracking._tracking_service.client: 🏃 View run intelligent-bass-932 at: https://dagshub.com/kru2710shna/Kidney-Disease-Classification.mlflow.mlflow/#/experiments/0/runs/a4e83ad3e31b4e228a28c25196007644.\n",
      "2024/10/06 03:20:00 INFO mlflow.tracking._tracking_service.client: 🧪 View experiment at: https://dagshub.com/kru2710shna/Kidney-Disease-Classification.mlflow.mlflow/#/experiments/0.\n"
     ]
    }
   ],
   "source": [
    "import os\n",
    "from dotenv import load_dotenv\n",
    "import dagshub\n",
    "import mlflow\n",
    "\n",
    "load_dotenv()\n",
    "\n",
    "repo_owner = os.getenv('DAGSHUB_REPO_OWNER')\n",
    "repo_name = os.getenv('DAGSHUB_REPO_NAME')\n",
    "\n",
    "# Check if variables are loaded properly\n",
    "print(f\"Repo Owner: {repo_owner}\")\n",
    "print(f\"Repo Name: {repo_name}\")\n",
    "\n",
    "# Initialize DagsHub repo and MLflow\n",
    "dagshub.init(\n",
    "    repo_owner=repo_owner, \n",
    "    repo_name=repo_name, \n",
    "    mlflow=True, \n",
    "    url=f\"https://dagshub.com/{repo_owner}/{repo_name}.mlflow\"\n",
    ")\n",
    "\n",
    "# Start an MLflow run and log parameters/metrics\n",
    "with mlflow.start_run():\n",
    "    mlflow.log_param('parameter name', 'value')\n",
    "    mlflow.log_metric('metric name', 1)\n"
   ]
  },
  {
   "cell_type": "code",
   "execution_count": 7,
   "id": "f19085a0-2ed2-4ef0-8d30-ce2fd9c4e823",
   "metadata": {},
   "outputs": [],
   "source": [
    "from dataclasses import dataclass\n",
    "from pathlib import Path\n",
    "\n",
    "@dataclass(frozen=True)\n",
    "class EvaluationConfig:\n",
    "    path_of_model: Path\n",
    "    training_data: Path\n",
    "    all_params: dict\n",
    "    mlflow_uri: str\n",
    "    params_image_size: list\n",
    "    params_batch_size: int"
   ]
  },
  {
   "cell_type": "code",
   "execution_count": 8,
   "id": "69350053-2739-49db-9aec-bcaf271893c0",
   "metadata": {},
   "outputs": [],
   "source": [
    "from Kidney_Image_Classifier.constants import *\n",
    "from Kidney_Image_Classifier.utils.overlapping import read_yaml, create_directories, save_json"
   ]
  },
  {
   "cell_type": "code",
   "execution_count": 9,
   "id": "41fb1b3e-9d68-495a-80cc-b1a2a9fdbeab",
   "metadata": {},
   "outputs": [],
   "source": [
    "class ConfigurationManager:\n",
    "    def __init__(\n",
    "        self, \n",
    "        config_filepath = CONFIG_FILE_PATH,\n",
    "        params_filepath = PARAMS_FILE_PATH):\n",
    "        self.config = read_yaml(config_filepath)\n",
    "        self.params = read_yaml(params_filepath)\n",
    "        create_directories([self.config.artifacts_root])\n",
    "\n",
    "    def get_evaluation_config(self) -> EvaluationConfig:\n",
    "        eval_config = EvaluationConfig(\n",
    "            path_of_model=\"artifacts/training/model.h5\",\n",
    "            training_data=\"artifacts/data_ingestion/Kidney_Image_Classification_Data\",\n",
    "            mlflow_uri=\"https://dagshub.com/kru2710shna/Kidney-Disease-Classification.mlflow\",\n",
    "            all_params=self.params,\n",
    "            params_image_size=self.params.IMAGE_SIZE,\n",
    "            params_batch_size=self.params.BATCH_SIZE\n",
    "    )\n",
    "        return eval_config"
   ]
  },
  {
   "cell_type": "code",
   "execution_count": 10,
   "id": "dc50c566-8dca-4cb3-b90a-801f8c6c78cc",
   "metadata": {},
   "outputs": [],
   "source": [
    "import tensorflow as tf\n",
    "from pathlib import Path\n",
    "import mlflow\n",
    "import mlflow.keras\n",
    "from urllib.parse import urlparse"
   ]
  },
  {
   "cell_type": "code",
   "execution_count": 11,
   "id": "1e16b1c7-3c1f-465f-9a09-2346e9915d64",
   "metadata": {},
   "outputs": [],
   "source": [
    "class Evaluation:\n",
    "    def __init__(self, config: EvaluationConfig):\n",
    "        self.config = config\n",
    "\n",
    "    \n",
    "    def _valid_generator(self):\n",
    "\n",
    "        datagenerator_kwargs = dict(\n",
    "            rescale = 1./255,\n",
    "            validation_split=0.30\n",
    "        )\n",
    "\n",
    "        dataflow_kwargs = dict(\n",
    "            target_size=self.config.params_image_size[:-1],\n",
    "            batch_size=self.config.params_batch_size,\n",
    "            interpolation=\"bilinear\"\n",
    "        )\n",
    "\n",
    "        valid_datagenerator = tf.keras.preprocessing.image.ImageDataGenerator(\n",
    "            **datagenerator_kwargs\n",
    "        )\n",
    "\n",
    "        self.valid_generator = valid_datagenerator.flow_from_directory(\n",
    "            directory=self.config.training_data,\n",
    "            subset=\"validation\",\n",
    "            shuffle=False,\n",
    "            **dataflow_kwargs\n",
    "        )\n",
    "\n",
    "\n",
    "    @staticmethod\n",
    "    def load_model(path: Path) -> tf.keras.Model:\n",
    "        return tf.keras.models.load_model(path)\n",
    "    \n",
    "\n",
    "    def evaluation(self):\n",
    "        self.model = self.load_model(self.config.path_of_model)\n",
    "        self._valid_generator()\n",
    "        self.score = self.model.evaluate(self.valid_generator)  # Fix here\n",
    "        self.save_score()\n",
    "\n",
    "    def save_score(self):\n",
    "        scores = {\"loss\": self.score[0], \"accuracy\": self.score[1]}\n",
    "        save_json(path=Path(\"scores.json\"), data=scores)\n",
    "\n",
    "    \n",
    "    def log_into_mlflow(self):\n",
    "        mlflow.set_tracking_uri(self.config.mlflow_uri)  # Correctly set the tracking URI\n",
    "        tracking_url_type_store = urlparse(mlflow.get_tracking_uri()).scheme\n",
    "    \n",
    "        with mlflow.start_run():\n",
    "            print(\"Starting MLflow run...\")\n",
    "            \n",
    "            # Log parameters\n",
    "            mlflow.log_params(self.config.all_params)\n",
    "            print(\"Logged parameters.\")\n",
    "            \n",
    "            # Log metrics\n",
    "            mlflow.log_metrics({\"loss\": self.score[0], \"accuracy\": self.score[1]})\n",
    "            print(f\"Logged metrics: Loss - {self.score[0]}, Accuracy - {self.score[1]}\")\n",
    "    \n",
    "            # Model registration\n",
    "            if tracking_url_type_store != \"file\":\n",
    "                mlflow.keras.log_model(self.model, \"model\", registered_model_name=\"VGG16Model\")\n",
    "                print(\"Logged model with registration.\")\n",
    "            else:\n",
    "                mlflow.keras.log_model(self.model, \"model\")\n",
    "                print(\"Logged model without registration.\")"
   ]
  },
  {
   "cell_type": "code",
   "execution_count": 12,
   "id": "4695b126-e670-4bdd-9ffb-4a602a491f68",
   "metadata": {},
   "outputs": [
    {
     "name": "stdout",
     "output_type": "stream",
     "text": [
      "[2024-10-06 03:20:03,985: INFO: overlapping: yaml file: config/config.yaml loaded successfully]\n",
      "[2024-10-06 03:20:03,986: INFO: overlapping: yaml file: params.yaml loaded successfully]\n",
      "[2024-10-06 03:20:03,987: INFO: overlapping: created directory at: artifacts]\n",
      "[2024-10-06 03:20:04,142: WARNING: saving_utils: Compiled the loaded model, but the compiled metrics have yet to be built. `model.compile_metrics` will be empty until you train or evaluate the model.]\n",
      "Found 2207 images belonging to 2 classes.\n"
     ]
    },
    {
     "name": "stderr",
     "output_type": "stream",
     "text": [
      "/Users/krushna/.pyenv/versions/3.10.0/lib/python3.10/site-packages/keras/src/trainers/data_adapters/py_dataset_adapter.py:121: UserWarning: Your `PyDataset` class should call `super().__init__(**kwargs)` in its constructor. `**kwargs` can include `workers`, `use_multiprocessing`, `max_queue_size`. Do not pass these arguments to `fit()`, as they will be ignored.\n",
      "  self._warn_if_super_not_called()\n"
     ]
    },
    {
     "name": "stdout",
     "output_type": "stream",
     "text": [
      "\u001b[1m148/148\u001b[0m \u001b[32m━━━━━━━━━━━━━━━━━━━━\u001b[0m\u001b[37m\u001b[0m \u001b[1m220s\u001b[0m 1s/step - accuracy: 0.9366 - loss: 0.1570\n",
      "[2024-10-06 03:23:44,779: INFO: overlapping: json file saved at: scores.json]\n",
      "Starting MLflow run...\n"
     ]
    },
    {
     "name": "stderr",
     "output_type": "stream",
     "text": [
      "2024/10/06 03:23:45 WARNING mlflow.keras.save: You are saving a Keras model without specifying model signature.\n"
     ]
    },
    {
     "name": "stdout",
     "output_type": "stream",
     "text": [
      "Logged parameters.\n",
      "Logged metrics: Loss - 0.4083787500858307, Accuracy - 0.817852258682251\n"
     ]
    },
    {
     "name": "stderr",
     "output_type": "stream",
     "text": [
      "/Users/krushna/.pyenv/versions/3.10.0/lib/python3.10/site-packages/_distutils_hack/__init__.py:32: UserWarning: Setuptools is replacing distutils. Support for replacing an already imported distutils is deprecated. In the future, this condition will fail. Register concerns at https://github.com/pypa/setuptools/issues/new?template=distutils-deprecation.yml\n",
      "  warnings.warn(\n",
      "Registered model 'VGG16Model' already exists. Creating a new version of this model...\n",
      "2024/10/06 03:24:16 INFO mlflow.store.model_registry.abstract_store: Waiting up to 300 seconds for model version to finish creation. Model name: VGG16Model, version 5\n",
      "Created version '5' of model 'VGG16Model'.\n",
      "2024/10/06 03:24:16 WARNING mlflow.models.model: Input example should be provided to infer model signature if the model signature is not provided when logging the model.\n",
      "2024/10/06 03:24:16 INFO mlflow.tracking._tracking_service.client: 🏃 View run capable-moose-768 at: https://dagshub.com/kru2710shna/Kidney-Disease-Classification.mlflow/#/experiments/0/runs/6ca680d50d004467a42882def5a0ea16.\n",
      "2024/10/06 03:24:16 INFO mlflow.tracking._tracking_service.client: 🧪 View experiment at: https://dagshub.com/kru2710shna/Kidney-Disease-Classification.mlflow/#/experiments/0.\n"
     ]
    },
    {
     "name": "stdout",
     "output_type": "stream",
     "text": [
      "Logged model with registration.\n"
     ]
    }
   ],
   "source": [
    "try:\n",
    "    config = ConfigurationManager()\n",
    "    eval_config = config.get_evaluation_config()\n",
    "    evaluation = Evaluation(eval_config)\n",
    "    evaluation.evaluation()\n",
    "    evaluation.log_into_mlflow()\n",
    "\n",
    "except Exception as e:\n",
    "   raise e"
   ]
  },
  {
   "cell_type": "code",
   "execution_count": null,
   "id": "c2766dc5-984f-4edd-a2b2-ac587a53b5c4",
   "metadata": {},
   "outputs": [
    {
     "name": "stdout",
     "output_type": "stream",
     "text": [
      "[2024-10-06 03:24:18 -0700] [26462] [INFO] Starting gunicorn 22.0.0\n",
      "[2024-10-06 03:24:18 -0700] [26462] [INFO] Listening at: http://127.0.0.1:5000 (26462)\n",
      "[2024-10-06 03:24:18 -0700] [26462] [INFO] Using worker: sync\n",
      "[2024-10-06 03:24:18 -0700] [26463] [INFO] Booting worker with pid: 26463\n",
      "[2024-10-06 03:24:18 -0700] [26464] [INFO] Booting worker with pid: 26464\n",
      "[2024-10-06 03:24:18 -0700] [26465] [INFO] Booting worker with pid: 26465\n",
      "[2024-10-06 03:24:18 -0700] [26466] [INFO] Booting worker with pid: 26466\n"
     ]
    }
   ],
   "source": [
    "!mlflow ui"
   ]
  },
  {
   "cell_type": "code",
   "execution_count": null,
   "id": "7d5e02b7-cf6f-4595-8c00-e63fb1e961ee",
   "metadata": {},
   "outputs": [],
   "source": []
  },
  {
   "cell_type": "code",
   "execution_count": null,
   "id": "3015f8f1-9b11-4a08-856c-6f7391d5360c",
   "metadata": {},
   "outputs": [],
   "source": []
  },
  {
   "cell_type": "code",
   "execution_count": null,
   "id": "4e770039-ffd9-4583-8ed9-d21f9fb3d185",
   "metadata": {},
   "outputs": [],
   "source": []
  },
  {
   "cell_type": "code",
   "execution_count": null,
   "id": "2c1ef829-ad7e-44f6-b408-93f7ec0ed0d7",
   "metadata": {},
   "outputs": [],
   "source": []
  }
 ],
 "metadata": {
  "kernelspec": {
   "display_name": "Python 3 (ipykernel)",
   "language": "python",
   "name": "python3"
  },
  "language_info": {
   "codemirror_mode": {
    "name": "ipython",
    "version": 3
   },
   "file_extension": ".py",
   "mimetype": "text/x-python",
   "name": "python",
   "nbconvert_exporter": "python",
   "pygments_lexer": "ipython3",
   "version": "3.10.0"
  }
 },
 "nbformat": 4,
 "nbformat_minor": 5
}
